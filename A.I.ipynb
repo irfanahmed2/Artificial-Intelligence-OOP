{
 "cells": [
  {
   "cell_type": "raw",
   "id": "30a67a07",
   "metadata": {},
   "source": [
    "# Artificial Intelligence\n",
    "Name\tIrfan Ahmed\n",
    "S/O\t    Asif Ahmed\n",
    "RollNo\tPIAIC172147\n",
    "City\tKarachi\n",
    "Batch 36 online\n",
    "\n",
    "Task 1:\n",
    "1-import mother and father attribute\n",
    "2-add two new attributes in the child constructor\n"
   ]
  },
  {
   "cell_type": "code",
   "execution_count": 39,
   "id": "a0228903",
   "metadata": {},
   "outputs": [
    {
     "name": "stdout",
     "output_type": "stream",
     "text": [
      "My name is Saad, I am 35  years old\n",
      "['age', 'name', 'showFather']\n"
     ]
    }
   ],
   "source": [
    "# create  father class\n",
    "# creating Father class\n",
    "class Father:\n",
    "  def __init__(self, name, age):\n",
    "    self.name = name\n",
    "    self.age = age\n",
    "  \n",
    "\n",
    "  def showFather(self):\n",
    "    return f\"My name is {self.name}, I am {self.age}  years old\"\n",
    "  \n",
    "f1 = Father(\"Saad\", 35)\n",
    "print(f1.showFather())\n",
    "print([i for i in dir(f1) if \"__\" not in i])        "
   ]
  },
  {
   "cell_type": "code",
   "execution_count": 40,
   "id": "8fd42e19",
   "metadata": {},
   "outputs": [
    {
     "name": "stdout",
     "output_type": "stream",
     "text": [
      "I speak Arabic and I am 5.6m tall.\n",
      "['height', 'language', 'showMother']\n"
     ]
    }
   ],
   "source": [
    "# create mother class\n",
    "class Mother:\n",
    "  def __init__(self, language, height):\n",
    "    self.language = language\n",
    "    self.height = height\n",
    "  \n",
    "  def showMother(self):\n",
    "    return f\"I speak {self.language} and I am {self.height}m tall.\"\n",
    "m1 = Mother(\"Arabic\", 5.6)\n",
    "print(m1.showMother())\n",
    "print([i for i in dir(m1) if \"__\" not in i])\n"
   ]
  },
  {
   "cell_type": "code",
   "execution_count": 41,
   "id": "c92b62d2",
   "metadata": {},
   "outputs": [
    {
     "name": "stdout",
     "output_type": "stream",
     "text": [
      "My name is Johnny, I am 13  years old and I am a boy. I speak English and I am 2.5m tall. I like painting\n",
      "['age', 'gender', 'height', 'hobby', 'language', 'name', 'showFather', 'showMother', 'showSelf']\n"
     ]
    }
   ],
   "source": [
    "#Creating Child class\n",
    "class Child(Father,Mother):\n",
    "  def __init__(self,name,age,language, height):\n",
    "    Father.__init__(self, name, age)\n",
    "    Mother.__init__(self, language, height)\n",
    "    self.gender = None\n",
    "    self.hobby = None\n",
    "\n",
    "  def showSelf(self):\n",
    "    return (Father.showFather(self) + f\" and I am a {self.gender}. \"+ Mother.showMother(self)+ f\" I like {self.hobby}\")\n",
    "\n",
    "c1 = Child(\"Johnny\", 13, \"English\", 2.5)\n",
    "c1.gender = \"boy\"\n",
    "c1.hobby = \"painting\"\n",
    "print(c1.showSelf())\n",
    "print([i for i in dir(c1) if \"__\" not in i])"
   ]
  },
  {
   "cell_type": "code",
   "execution_count": 42,
   "id": "58875ea9",
   "metadata": {},
   "outputs": [],
   "source": [
    "# Create a class\n",
    "\n",
    "class Book():\n",
    "    def __init__(self, price):\n",
    "        self.price = price\n",
    "        \n",
    "   # Operator Overloading\n",
    "    def __add__(self, other):\n",
    "        return self.price + other.price "
   ]
  },
  {
   "cell_type": "code",
   "execution_count": 7,
   "id": "51cc5a13",
   "metadata": {},
   "outputs": [
    {
     "name": "stdout",
     "output_type": "stream",
     "text": [
      "2500\n",
      "2500\n"
     ]
    }
   ],
   "source": [
    "# Create objects from class\n",
    "\n",
    "Book1 = Book(1000)\n",
    "Book2 = Book(1500)\n",
    "\n",
    "print(Book1.price + Book2.price)     # addition\n",
    "print(Book1 + Book2)                  # operator overloading\n"
   ]
  },
  {
   "cell_type": "code",
   "execution_count": null,
   "id": "b7fe343f",
   "metadata": {},
   "outputs": [],
   "source": []
  }
 ],
 "metadata": {
  "kernelspec": {
   "display_name": "Python 3 (ipykernel)",
   "language": "python",
   "name": "python3"
  },
  "language_info": {
   "codemirror_mode": {
    "name": "ipython",
    "version": 3
   },
   "file_extension": ".py",
   "mimetype": "text/x-python",
   "name": "python",
   "nbconvert_exporter": "python",
   "pygments_lexer": "ipython3",
   "version": "3.9.12"
  }
 },
 "nbformat": 4,
 "nbformat_minor": 5
}
